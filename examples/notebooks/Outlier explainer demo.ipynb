{
 "cells": [
  {
   "metadata": {},
   "cell_type": "markdown",
   "source": "# Outlier explainer demo",
   "id": "e604881e784a9f9a"
  },
  {
   "metadata": {},
   "cell_type": "markdown",
   "source": [
    "This notebook demonstrates the usage of the outlier explainer.\\\n",
    "Note that it is recommended to use our other package, pd-explain, for better ease of use and more features."
   ],
   "id": "ca1fceec8df719a6"
  },
  {
   "metadata": {},
   "cell_type": "markdown",
   "source": "## Imports and loading data",
   "id": "2ac929f2c20f6248"
  },
  {
   "cell_type": "code",
   "id": "initial_id",
   "metadata": {
    "collapsed": true,
    "ExecuteTime": {
     "end_time": "2025-02-10T14:28:34.539967Z",
     "start_time": "2025-02-10T14:28:33.726878Z"
    }
   },
   "source": [
    "import pandas as pd\n",
    "from external_explainers import OutlierExplainer"
   ],
   "outputs": [],
   "execution_count": 1
  },
  {
   "metadata": {
    "ExecuteTime": {
     "end_time": "2025-02-10T14:28:37.085917Z",
     "start_time": "2025-02-10T14:28:34.548929Z"
    }
   },
   "cell_type": "code",
   "source": [
    "spotify_data = pd.read_csv('https://raw.githubusercontent.com/analysis-bots/pd-explain/refs/heads/main/Examples/Datasets/spotify_all.csv')\n",
    "spotify_data.head()"
   ],
   "id": "4a877eb58c908b7d",
   "outputs": [
    {
     "data": {
      "text/plain": [
       "   acousticness                    artists  danceability  energy  explicit  \\\n",
       "0      0.991000            ['Mamie Smith']         0.598   0.224         0   \n",
       "1      0.643000  [\"Screamin' Jay Hawkins\"]         0.852   0.517         0   \n",
       "2      0.993000            ['Mamie Smith']         0.647   0.186         0   \n",
       "3      0.000173        ['Oscar Velazquez']         0.730   0.798         0   \n",
       "4      0.295000                   ['Mixe']         0.704   0.707         1   \n",
       "\n",
       "                       id  instrumentalness  key  liveness  loudness  ...  \\\n",
       "0  0cS0A1fUEUd1EW3FcF8AEI          0.000522    5    0.3790   -12.628  ...   \n",
       "1  0hbkKFIJm7Z05H8Zl9w30f          0.026400    5    0.0809    -7.261  ...   \n",
       "2  11m7laMUgmOKqI3oYzuhne          0.000018    0    0.5190   -12.098  ...   \n",
       "3  19Lc5SfJJ5O1oaxY0fpwfh          0.801000    2    0.1280    -7.311  ...   \n",
       "4  2hJjbsLCytGsnAHfdsLejp          0.000246   10    0.4020    -6.036  ...   \n",
       "\n",
       "                                                name popularity  speechiness  \\\n",
       "0                           Keep A Song In Your Soul         12       0.0936   \n",
       "1                               I Put A Spell On You          7       0.0534   \n",
       "2                                       Golfing Papa          4       0.1740   \n",
       "3  True House Music - Xavier Santos & Carlos Gomi...         17       0.0425   \n",
       "4                                          Xuniverxe          2       0.0768   \n",
       "\n",
       "     tempo  valence  year  decade  popularity_score            main_artist  \\\n",
       "0  149.976   0.6340  1920    1920                10            Mamie Smith   \n",
       "1   86.889   0.9500  1920    1920                 0  Screamin' Jay Hawkins   \n",
       "2   97.600   0.6890  1920    1920                 0            Mamie Smith   \n",
       "3  127.997   0.0422  1920    1920                10        Oscar Velazquez   \n",
       "4  122.076   0.2990  1920    1920                 0                   Mixe   \n",
       "\n",
       "  duration_minutes  \n",
       "0         2.805550  \n",
       "1         2.503333  \n",
       "2         2.730450  \n",
       "3         7.034783  \n",
       "4         2.753733  \n",
       "\n",
       "[5 rows x 21 columns]"
      ],
      "text/html": [
       "<div>\n",
       "<style scoped>\n",
       "    .dataframe tbody tr th:only-of-type {\n",
       "        vertical-align: middle;\n",
       "    }\n",
       "\n",
       "    .dataframe tbody tr th {\n",
       "        vertical-align: top;\n",
       "    }\n",
       "\n",
       "    .dataframe thead th {\n",
       "        text-align: right;\n",
       "    }\n",
       "</style>\n",
       "<table border=\"1\" class=\"dataframe\">\n",
       "  <thead>\n",
       "    <tr style=\"text-align: right;\">\n",
       "      <th></th>\n",
       "      <th>acousticness</th>\n",
       "      <th>artists</th>\n",
       "      <th>danceability</th>\n",
       "      <th>energy</th>\n",
       "      <th>explicit</th>\n",
       "      <th>id</th>\n",
       "      <th>instrumentalness</th>\n",
       "      <th>key</th>\n",
       "      <th>liveness</th>\n",
       "      <th>loudness</th>\n",
       "      <th>...</th>\n",
       "      <th>name</th>\n",
       "      <th>popularity</th>\n",
       "      <th>speechiness</th>\n",
       "      <th>tempo</th>\n",
       "      <th>valence</th>\n",
       "      <th>year</th>\n",
       "      <th>decade</th>\n",
       "      <th>popularity_score</th>\n",
       "      <th>main_artist</th>\n",
       "      <th>duration_minutes</th>\n",
       "    </tr>\n",
       "  </thead>\n",
       "  <tbody>\n",
       "    <tr>\n",
       "      <th>0</th>\n",
       "      <td>0.991000</td>\n",
       "      <td>['Mamie Smith']</td>\n",
       "      <td>0.598</td>\n",
       "      <td>0.224</td>\n",
       "      <td>0</td>\n",
       "      <td>0cS0A1fUEUd1EW3FcF8AEI</td>\n",
       "      <td>0.000522</td>\n",
       "      <td>5</td>\n",
       "      <td>0.3790</td>\n",
       "      <td>-12.628</td>\n",
       "      <td>...</td>\n",
       "      <td>Keep A Song In Your Soul</td>\n",
       "      <td>12</td>\n",
       "      <td>0.0936</td>\n",
       "      <td>149.976</td>\n",
       "      <td>0.6340</td>\n",
       "      <td>1920</td>\n",
       "      <td>1920</td>\n",
       "      <td>10</td>\n",
       "      <td>Mamie Smith</td>\n",
       "      <td>2.805550</td>\n",
       "    </tr>\n",
       "    <tr>\n",
       "      <th>1</th>\n",
       "      <td>0.643000</td>\n",
       "      <td>[\"Screamin' Jay Hawkins\"]</td>\n",
       "      <td>0.852</td>\n",
       "      <td>0.517</td>\n",
       "      <td>0</td>\n",
       "      <td>0hbkKFIJm7Z05H8Zl9w30f</td>\n",
       "      <td>0.026400</td>\n",
       "      <td>5</td>\n",
       "      <td>0.0809</td>\n",
       "      <td>-7.261</td>\n",
       "      <td>...</td>\n",
       "      <td>I Put A Spell On You</td>\n",
       "      <td>7</td>\n",
       "      <td>0.0534</td>\n",
       "      <td>86.889</td>\n",
       "      <td>0.9500</td>\n",
       "      <td>1920</td>\n",
       "      <td>1920</td>\n",
       "      <td>0</td>\n",
       "      <td>Screamin' Jay Hawkins</td>\n",
       "      <td>2.503333</td>\n",
       "    </tr>\n",
       "    <tr>\n",
       "      <th>2</th>\n",
       "      <td>0.993000</td>\n",
       "      <td>['Mamie Smith']</td>\n",
       "      <td>0.647</td>\n",
       "      <td>0.186</td>\n",
       "      <td>0</td>\n",
       "      <td>11m7laMUgmOKqI3oYzuhne</td>\n",
       "      <td>0.000018</td>\n",
       "      <td>0</td>\n",
       "      <td>0.5190</td>\n",
       "      <td>-12.098</td>\n",
       "      <td>...</td>\n",
       "      <td>Golfing Papa</td>\n",
       "      <td>4</td>\n",
       "      <td>0.1740</td>\n",
       "      <td>97.600</td>\n",
       "      <td>0.6890</td>\n",
       "      <td>1920</td>\n",
       "      <td>1920</td>\n",
       "      <td>0</td>\n",
       "      <td>Mamie Smith</td>\n",
       "      <td>2.730450</td>\n",
       "    </tr>\n",
       "    <tr>\n",
       "      <th>3</th>\n",
       "      <td>0.000173</td>\n",
       "      <td>['Oscar Velazquez']</td>\n",
       "      <td>0.730</td>\n",
       "      <td>0.798</td>\n",
       "      <td>0</td>\n",
       "      <td>19Lc5SfJJ5O1oaxY0fpwfh</td>\n",
       "      <td>0.801000</td>\n",
       "      <td>2</td>\n",
       "      <td>0.1280</td>\n",
       "      <td>-7.311</td>\n",
       "      <td>...</td>\n",
       "      <td>True House Music - Xavier Santos &amp; Carlos Gomi...</td>\n",
       "      <td>17</td>\n",
       "      <td>0.0425</td>\n",
       "      <td>127.997</td>\n",
       "      <td>0.0422</td>\n",
       "      <td>1920</td>\n",
       "      <td>1920</td>\n",
       "      <td>10</td>\n",
       "      <td>Oscar Velazquez</td>\n",
       "      <td>7.034783</td>\n",
       "    </tr>\n",
       "    <tr>\n",
       "      <th>4</th>\n",
       "      <td>0.295000</td>\n",
       "      <td>['Mixe']</td>\n",
       "      <td>0.704</td>\n",
       "      <td>0.707</td>\n",
       "      <td>1</td>\n",
       "      <td>2hJjbsLCytGsnAHfdsLejp</td>\n",
       "      <td>0.000246</td>\n",
       "      <td>10</td>\n",
       "      <td>0.4020</td>\n",
       "      <td>-6.036</td>\n",
       "      <td>...</td>\n",
       "      <td>Xuniverxe</td>\n",
       "      <td>2</td>\n",
       "      <td>0.0768</td>\n",
       "      <td>122.076</td>\n",
       "      <td>0.2990</td>\n",
       "      <td>1920</td>\n",
       "      <td>1920</td>\n",
       "      <td>0</td>\n",
       "      <td>Mixe</td>\n",
       "      <td>2.753733</td>\n",
       "    </tr>\n",
       "  </tbody>\n",
       "</table>\n",
       "<p>5 rows × 21 columns</p>\n",
       "</div>"
      ]
     },
     "execution_count": 2,
     "metadata": {},
     "output_type": "execute_result"
    }
   ],
   "execution_count": 2
  },
  {
   "metadata": {},
   "cell_type": "markdown",
   "source": "## Outlier detection",
   "id": "84056d9e106e6990"
  },
  {
   "metadata": {},
   "cell_type": "markdown",
   "source": [
    "The outlier explainer is meant for usage on series that are a result of aggregation operations.\\\n",
    "First, we perform a groupby and aggregation on the data."
   ],
   "id": "2c10b272c0aaa9ce"
  },
  {
   "metadata": {
    "ExecuteTime": {
     "end_time": "2025-02-10T14:28:37.372620Z",
     "start_time": "2025-02-10T14:28:37.345307Z"
    }
   },
   "cell_type": "code",
   "source": [
    "new_songs_df = spotify_data[spotify_data['year'] >= 1990]\n",
    "gb_decade = new_songs_df.groupby('decade')['popularity'].mean()\n",
    "gb_decade"
   ],
   "id": "c38c258934cdca14",
   "outputs": [
    {
     "data": {
      "text/plain": [
       "decade\n",
       "1990    43.120769\n",
       "2000    43.167320\n",
       "2010    29.579203\n",
       "2020    19.171014\n",
       "Name: popularity, dtype: float64"
      ]
     },
     "execution_count": 3,
     "metadata": {},
     "output_type": "execute_result"
    }
   ],
   "execution_count": 3
  },
  {
   "metadata": {},
   "cell_type": "markdown",
   "source": "Now we can the outlier to explain suspected outliers.",
   "id": "36ce2fef356a95ba"
  },
  {
   "metadata": {
    "ExecuteTime": {
     "end_time": "2025-02-10T14:29:22.957533Z",
     "start_time": "2025-02-10T14:29:21.682728Z"
    }
   },
   "cell_type": "code",
   "source": [
    "outlier_explainer = OutlierExplainer()\n",
    "outlier_explainer.explain(df_agg=gb_decade, df_in=new_songs_df, g_att='decade', g_agg='popularity', agg_method='mean', target=2020, dir=-1)"
   ],
   "id": "545e243e9f81631a",
   "outputs": [
    {
     "data": {
      "text/plain": [
       "<Figure size 500x500 with 1 Axes>"
      ],
      "image/png": "[encoded data removed]"
     },
     "metadata": {},
     "output_type": "display_data"
    }
   ],
   "execution_count": 5
  },
  {
   "metadata": {},
   "cell_type": "markdown",
   "source": "Once again, we recommend doing this via pd-explain for a more streamlined experience, where most of these parameters are automatically inferred via the user's previous actions.",
   "id": "4e3338ab3267da02"
  }
 ],
 "metadata": {
  "kernelspec": {
   "display_name": "Python 3",
   "language": "python",
   "name": "python3"
  },
  "language_info": {
   "codemirror_mode": {
    "name": "ipython",
    "version": 2
   },
   "file_extension": ".py",
   "mimetype": "text/x-python",
   "name": "python",
   "nbconvert_exporter": "python",
   "pygments_lexer": "ipython2",
   "version": "2.7.6"
  }
 },
 "nbformat": 4,
 "nbformat_minor": 5
}
